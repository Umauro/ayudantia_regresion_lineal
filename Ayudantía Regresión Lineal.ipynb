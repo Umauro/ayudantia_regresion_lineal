{
 "cells": [
  {
   "cell_type": "code",
   "execution_count": 1,
   "metadata": {},
   "outputs": [
    {
     "data": {
      "text/html": [
       "<style>.container { width:95% !important; }</style>"
      ]
     },
     "metadata": {},
     "output_type": "display_data"
    }
   ],
   "source": [
    "#configuraciones\n",
    "library(repr)\n",
    "options(repr.plot.width=15,repr.plot.height=7)\n",
    "IRdisplay::display_html(\"<style>.container { width:95% !important; }</style>\")\n",
    "options(jupyter.plot_mimetypes = c(\"text/plain\", \"image/png\" ))"
   ]
  },
  {
   "cell_type": "markdown",
   "metadata": {},
   "source": [
    "<div style=\"text-align:left\">\n",
    "    <img style='height:100px' src='https://upload.wikimedia.org/wikipedia/commons/4/47/Logo_UTFSM.png' align='left'>\n",
    "<div>\n",
    "\n",
    "<div style='float:right;'>\n",
    "    <div style=\"text-align:center\">\n",
    "        UNIVERSIDAD TÉCNICA FEDERICO SANTA MARÍA <br>\n",
    "        CAMPUS SANTIAGO <br>\n",
    "        DEPARTAMENTO DE INFORMÁTICA <br>\n",
    "        PRIMER SEMESTRE 2020\n",
    "    </div>\n",
    "</div>\n",
    "\n",
    "<div style=\"padding:50px;\"></div>\n",
    "<hr style=\"height:2px;border:none\"/>\n",
    "\n",
    "# Ayudantía Regresión Lineal (en R)\n",
    "\n",
    "<hr style=\"height:2px;border:none\"/>\n",
    "    \n",
    "* _**Profesor - Nicolás Rojas**_\n",
    "* _**Francisca Ramírez - francisca.ramirez.12@sansano.usm.cl**_\n",
    "* _**Felipe Vega - felipe.vega.14@sansano.usm.cl**_\n",
    "    \n",
    "<hr style=\"height:2px;border:none\"/>"
   ]
  },
  {
   "cell_type": "markdown",
   "metadata": {},
   "source": [
    "## Antes de comenzar"
   ]
  },
  {
   "cell_type": "markdown",
   "metadata": {},
   "source": [
    "Es necesario instalar algunos paquetes adicionales para ejecutar los test de Durbin Watson (independencia de errores) y Kolmogorov-Smirnov (distribución normal de residuales)."
   ]
  },
  {
   "cell_type": "code",
   "execution_count": null,
   "metadata": {},
   "outputs": [],
   "source": [
    "install.packages('ggplot2') # Graficos\n",
    "install.packages('lmtest') #Librería Durbin Watson\n",
    "install.packages('fBasics') #Librería Kolmogorov-Smirnov\n",
    "install.packages('chemCal') #Calcular X a partir de Y"
   ]
  },
  {
   "cell_type": "markdown",
   "metadata": {},
   "source": [
    "Cargamos las librerías que utilizaremos durante el desarrollo de esta ayudantía."
   ]
  },
  {
   "cell_type": "code",
   "execution_count": 3,
   "metadata": {},
   "outputs": [],
   "source": [
    "library(ggplot2)\n",
    "library(lmtest)\n",
    "library(fBasics)\n",
    "library(chemCal)"
   ]
  },
  {
   "cell_type": "markdown",
   "metadata": {},
   "source": [
    "## Ejercicio"
   ]
  },
  {
   "cell_type": "markdown",
   "metadata": {},
   "source": [
    "#### Víctor Zavala, el denominado \"Rey de los Churros\" se encuentra planificando el año 2021 luego de dar por perdida la producción del año 2020. Como sus resultados no han sido muy buenos, Víctor Zavala debe pensar muy bien cuanto personal contratar para producir la cantidad de churros necesaria para cumplir con las metas que le planteó la junta directiva de \"Churroware\", sus principales accionistas.\n",
    "\n",
    "#### Aproblemado por la situación, el Rey de los Churros decide asesorarse con los alumnos de Investigación de Operaciones para encontrar la solución, esto dado que es muy tacaño para contratar un estudio profesional. Para esto, les traspasa los datos de mensuales de producción de los años 2018 y 2019."
   ]
  },
  {
   "cell_type": "markdown",
   "metadata": {},
   "source": [
    "Los datos proporcionados corresponden a cantidad de toneladas de churros producidas en 1 mes y la cantidad de horas hombre invertidas para llegar a dicho nivel de producción. Estos se encuentran en el archivo `data.csv`."
   ]
  },
  {
   "cell_type": "markdown",
   "metadata": {},
   "source": [
    "- Plantee un modelo líneal para la situación anterior.\n",
    "- ¿Cuántas HH son necesarias para producir 13 toneladas de churros?\n",
    "- ¿Cuántas toneladas de churros se pueden producir en 35 HH?, ¿Y en 70?\n",
    "- Evalúe el grado/calidad de la relación entre las variables.\n",
    "- Considerando la siguiente afirmación: \"La cantidad de HH crece al triple respecto de las toneladas de churros\".\n",
    "        - Verifique mediente un Intervalo de Confianza adecuado, considerando una certeza de 95%.\n",
    "        - Verifique mediante Dócimas de Hipótesis.\n",
    "- Construya un intervalo de confianza para la respuesta de HH dado 15 toneladas de churros.\n",
    "- Verifique si el modelo es lineal.\n",
    "- Verifique si los errores son independientes.\n",
    "- Verifique si los errores siguen una distribución normal."
   ]
  },
  {
   "cell_type": "markdown",
   "metadata": {},
   "source": [
    "## Datos"
   ]
  },
  {
   "cell_type": "markdown",
   "metadata": {},
   "source": [
    "Para comenzar, cargamos y visualizamos parte de los datos los datos a utilizar."
   ]
  },
  {
   "cell_type": "code",
   "execution_count": 4,
   "metadata": {},
   "outputs": [
    {
     "data": {
      "text/html": [
       "<table>\n",
       "<caption>A data.frame: 6 × 2</caption>\n",
       "<thead>\n",
       "\t<tr><th></th><th scope=col>HH</th><th scope=col>TonChurros</th></tr>\n",
       "\t<tr><th></th><th scope=col>&lt;int&gt;</th><th scope=col>&lt;int&gt;</th></tr>\n",
       "</thead>\n",
       "<tbody>\n",
       "\t<tr><th scope=row>1</th><td>30</td><td>14</td></tr>\n",
       "\t<tr><th scope=row>2</th><td>10</td><td> 5</td></tr>\n",
       "\t<tr><th scope=row>3</th><td>43</td><td>18</td></tr>\n",
       "\t<tr><th scope=row>4</th><td>31</td><td>16</td></tr>\n",
       "\t<tr><th scope=row>5</th><td>27</td><td>11</td></tr>\n",
       "\t<tr><th scope=row>6</th><td>18</td><td> 6</td></tr>\n",
       "</tbody>\n",
       "</table>\n"
      ],
      "text/latex": [
       "A data.frame: 6 × 2\n",
       "\\begin{tabular}{r|ll}\n",
       "  & HH & TonChurros\\\\\n",
       "  & <int> & <int>\\\\\n",
       "\\hline\n",
       "\t1 & 30 & 14\\\\\n",
       "\t2 & 10 &  5\\\\\n",
       "\t3 & 43 & 18\\\\\n",
       "\t4 & 31 & 16\\\\\n",
       "\t5 & 27 & 11\\\\\n",
       "\t6 & 18 &  6\\\\\n",
       "\\end{tabular}\n"
      ],
      "text/markdown": [
       "\n",
       "A data.frame: 6 × 2\n",
       "\n",
       "| <!--/--> | HH &lt;int&gt; | TonChurros &lt;int&gt; |\n",
       "|---|---|---|\n",
       "| 1 | 30 | 14 |\n",
       "| 2 | 10 |  5 |\n",
       "| 3 | 43 | 18 |\n",
       "| 4 | 31 | 16 |\n",
       "| 5 | 27 | 11 |\n",
       "| 6 | 18 |  6 |\n",
       "\n"
      ],
      "text/plain": [
       "  HH TonChurros\n",
       "1 30 14        \n",
       "2 10  5        \n",
       "3 43 18        \n",
       "4 31 16        \n",
       "5 27 11        \n",
       "6 18  6        "
      ]
     },
     "metadata": {},
     "output_type": "display_data"
    }
   ],
   "source": [
    "data = read.csv(\"data.csv\",sep=';')\n",
    "head(data)"
   ]
  },
  {
   "cell_type": "markdown",
   "metadata": {},
   "source": [
    "## Desarrollo"
   ]
  },
  {
   "cell_type": "markdown",
   "metadata": {},
   "source": [
    "#### Plantee un modelo lineal para la situación anterior."
   ]
  },
  {
   "cell_type": "markdown",
   "metadata": {},
   "source": [
    "El modelo simple$^{(1)}$ de regresión lineal se formula de la siguiente manera:\n",
    "\n",
    "$$X = \\begin{bmatrix}\n",
    "        x_{1} \\\\\n",
    "        x_{2} \\\\\n",
    "        \\vdots \\\\\n",
    "        x_{n}\n",
    "    \\end{bmatrix}\n",
    "    \\hspace{2cm}\n",
    " Y = \\begin{bmatrix}\n",
    "            y_{1} \\\\\n",
    "            y_{2} \\\\\n",
    "            \\vdots \\\\\n",
    "            x_{n}\n",
    "        \\end{bmatrix} $$\n",
    "\n",
    "$$ Y = \\beta_1 \\cdot X + \\beta_0 + \\epsilon_i $$\n",
    "\n",
    "\n",
    "En este caso debemos definir cual de nuestras columnas corresponde a la variable dependiente y cual a la variable independiente. Del enunciado se desprende que se desea conocer la cantidad de personal que se contratará, lo cual está directamente relacionado con las HH, a partir de la producción de churros, por lo que la _**producción de churros**_ `TonChurros` será la variable independiente _**X**_ y las _**horas hombre**_ $^{(2)}$ serán la variable dependiente _**Y**_.\n",
    "\n",
    "Para construir este modelo, debemos suponer que los errores siguen una distribución normal:\n",
    "\n",
    "- Con valor esperado igual a 0\n",
    "- Con varianza $\\sigma^2$\n",
    "- Con convarianza entre errores igual a 0, es decir, son independientes.\n",
    "\n",
    "Existen distintos test para comprobar si se cumplen estos supuestos en el modelo.\n",
    "\n",
    "En R, se puede ajustar un modelo de regresión lineal utilizando la función `lm`, la cual recibe una fórmula y los datos a utilizar. \n",
    "\n"
   ]
  },
  {
   "cell_type": "code",
   "execution_count": 5,
   "metadata": {},
   "outputs": [
    {
     "data": {
      "text/plain": [
       "\n",
       "Call:\n",
       "lm(formula = HH ~ TonChurros, data = data)\n",
       "\n",
       "Coefficients:\n",
       "(Intercept)   TonChurros  \n",
       "  -0.006648     2.175242  \n"
      ]
     },
     "metadata": {},
     "output_type": "display_data"
    }
   ],
   "source": [
    "# La formula de lm se construye de la misma manera que para \n",
    "# los árboles de clasificación\n",
    "model <- lm(HH ~ TonChurros,data=data)\n",
    "model"
   ]
  },
  {
   "cell_type": "markdown",
   "metadata": {},
   "source": [
    "Al construir el modelo lineal se obtiene que $\\beta_1$ es $2.175242$ y $\\beta_0$ es $-0.006648$. Por lo tanto, el modelo es el siguiente:\n",
    "\n",
    "$$ \\hat{Y} = 2.175242 \\cdot X - 0.006648$$\n",
    "\n",
    "\n",
    "Podemos graficar tanto los datos como el modelo de regresión obtenido, donde la región sombreada corresponde a los intervalos de confianza de la regresión $^{(3)}$."
   ]
  },
  {
   "cell_type": "code",
   "execution_count": 8,
   "metadata": {},
   "outputs": [
    {
     "data": {
      "image/png": "[encoded data removed]",
      "text/plain": [
       "plot without title"
      ]
     },
     "metadata": {
      "image/png": {
       "height": 420,
       "width": 900
      }
     },
     "output_type": "display_data"
    }
   ],
   "source": [
    "ggplot(data,aes(x=TonChurros,y=HH)) +\n",
    "    geom_point(color='#2980B9',size=8) + #Gráfica de puntos\n",
    "    geom_smooth(method=lm, formula= y~x, color='#2C3E50') +\n",
    "    labs(title='Toneladas de Churros vs Horas Hombre') +\n",
    "    theme_test(base_size=30)"
   ]
  },
  {
   "cell_type": "markdown",
   "metadata": {},
   "source": [
    "Tambien se pueden ver más detalles sobre la regresión. Para esto, utilizamos la función `summary`. \n",
    "\n",
    "_**Nota:**_ Si quieren entender lo siguiente recomiendo ver las cápsulas de la materia antes."
   ]
  },
  {
   "cell_type": "code",
   "execution_count": 103,
   "metadata": {},
   "outputs": [
    {
     "data": {
      "text/plain": [
       "\n",
       "Call:\n",
       "lm(formula = HH ~ TonChurros, data = data)\n",
       "\n",
       "Residuals:\n",
       "    Min      1Q  Median      3Q     Max \n",
       "-5.9210 -1.1787 -0.5086  0.7956  6.3266 \n",
       "\n",
       "Coefficients:\n",
       "             Estimate Std. Error t value Pr(>|t|)    \n",
       "(Intercept) -0.006648   1.436815  -0.005    0.996    \n",
       "TonChurros   2.175242   0.091138  23.867   <2e-16 ***\n",
       "---\n",
       "Signif. codes:  0 '***' 0.001 '**' 0.01 '*' 0.05 '.' 0.1 ' ' 1\n",
       "\n",
       "Residual standard error: 2.719 on 22 degrees of freedom\n",
       "Multiple R-squared:  0.9628,\tAdjusted R-squared:  0.9611 \n",
       "F-statistic: 569.7 on 1 and 22 DF,  p-value: < 2.2e-16\n"
      ]
     },
     "metadata": {},
     "output_type": "display_data"
    }
   ],
   "source": [
    "model_summary <- summary(model)\n",
    "model_summary"
   ]
  },
  {
   "cell_type": "markdown",
   "metadata": {},
   "source": [
    "En la sección Residual se muestran los cuartiles de los residuos de la regresión. En Coefficients se muestra información sobre los coeficientes: `Estimate` corresponde al valor del coeficiente; `Std. Error` corresponde a la desviación estándar de ambos coeficientes $^{(4)}$; `t-value` corresponde al estadístico utilizado para docimar un coeficiente nulo $^{(5)}$. `Residual standard error` corresponde a la desviación estándar de los residuos $^{(6)}$; `Multuple R-squared` corresponde al coeficiente de determinación; y finalmente `F-statistic` corresponde al estadístico utilizado en el Test de Anova."
   ]
  },
  {
   "cell_type": "markdown",
   "metadata": {},
   "source": [
    "_**(1)**_ Se considera simple porque utiliza una sola variable independiente. Se puede realizar una regresión lineal con más de una variable de este estilo.\n",
    "\n",
    "_**(2)**_ Hay varias discusiones de cambiar términos utilizados por otros más inclusivos, por ejemplo, en Twitter están cambiando términos en su código/documentación [LINK](https://twitter.com/TwitterEng/status/1278733305190342656). Dejé el término HH ya que es más probable que dicho término lo hayan escuchado con ese nombre, pero es interesante ver los cambios que se podrían realizar.\n",
    "\n",
    "_**(3)**_ Por defecto considera una certeza de $0.95$, lo que implica un nivel de significancia $\\alpha = 0.05$.\n",
    "\n",
    "_**(4)**_ $ \\sqrt{V(\\hat{\\beta_{1}})} ; \\sqrt{V(\\hat{\\beta_{0}})} $. Ver [formulario](https://aula.usm.cl/pluginfile.php/6961025/mod_resource/content/0/Form%2BTablas.pdf) para más detalles.\n",
    "\n",
    "_**(5)**_ $t_{\\beta_{1}} = \\frac{\\hat{\\beta_{1}}-c}{\\frac{S}{\\sqrt[]{S_{xx}}}} ; t_{\\beta_{0}} = \\frac{\\hat{\\beta_{0}}-l}{s\\cdot \\sqrt{\\frac{\\sum_{i=1}^{n}x_{i}^{2}}{n\\,S_{xx}}}}$ Con C e I igual a 0.\n",
    "\n",
    "_**(6)**_ $\\sqrt{\\hat{\\sigma^2}}$.\n"
   ]
  },
  {
   "cell_type": "markdown",
   "metadata": {},
   "source": [
    "#### ¿Cuántas HH son necesarias para producir 13 toneladas de churros?"
   ]
  },
  {
   "cell_type": "markdown",
   "metadata": {},
   "source": [
    "Antes de responder esta pregunta se debe observar el dominio de las variables utilizadas."
   ]
  },
  {
   "cell_type": "code",
   "execution_count": 12,
   "metadata": {},
   "outputs": [
    {
     "data": {
      "text/plain": [
       "       HH          TonChurros   \n",
       " Min.   :10.00   Min.   : 5.00  \n",
       " 1st Qu.:18.75   1st Qu.: 9.75  \n",
       " Median :30.50   Median :14.50  \n",
       " Mean   :31.62   Mean   :14.54  \n",
       " 3rd Qu.:43.25   3rd Qu.:19.25  \n",
       " Max.   :53.00   Max.   :25.00  "
      ]
     },
     "metadata": {},
     "output_type": "display_data"
    }
   ],
   "source": [
    "summary(data)"
   ]
  },
  {
   "cell_type": "markdown",
   "metadata": {},
   "source": [
    "Las toneladas de churros van entre 5 y 25, mientras que las HH van entre 10 y 53. Como las 13 toneladas de la pregunta se encuentran dentro del dominio de la regresión, podemos utilizar el modelo para encontrar las HH.\n",
    "\n",
    "$$ \\hat{y} = 2.175242 \\cdot 13 - 0.006648$$\n",
    "\n",
    "Para realizar la operación anterior utilizamos la función `predict`, la cual recibe como parámetros el modelo de regresión, un dataframe con uno o más valores para la variable independiente. El parámetro `type=response` sirve para que retorne el valor de la predicción."
   ]
  },
  {
   "cell_type": "code",
   "execution_count": 15,
   "metadata": {},
   "outputs": [
    {
     "data": {
      "text/html": [
       "<strong>1:</strong> 28.2715014747881"
      ],
      "text/latex": [
       "\\textbf{1:} 28.2715014747881"
      ],
      "text/markdown": [
       "**1:** 28.2715014747881"
      ],
      "text/plain": [
       "      1 \n",
       "28.2715 "
      ]
     },
     "metadata": {},
     "output_type": "display_data"
    }
   ],
   "source": [
    "predict(model,newdata=data.frame(TonChurros=13),type='response')"
   ]
  },
  {
   "cell_type": "markdown",
   "metadata": {},
   "source": [
    "#### ¿Cuántas toneladas de churros se pueden producir en 35 HH?, ¿Y en 70?"
   ]
  },
  {
   "cell_type": "markdown",
   "metadata": {},
   "source": [
    "Como 35 HH se encuentra dentro del dominio, podemos aplicar el modelo lineal.\n",
    "\n",
    "$$ 35 = 2.175242 \\cdot X - 0.006648$$\n",
    "\n",
    "Utilizando la función `inverse.predict` se puede calcular este valor. Esta función entrega la predicción, el error y intervalos de confianza. Como en este caso interesa solo la predicción entregamos solo dicho valor."
   ]
  },
  {
   "cell_type": "code",
   "execution_count": 17,
   "metadata": {},
   "outputs": [
    {
     "data": {
      "text/html": [
       "16.0932179677579"
      ],
      "text/latex": [
       "16.0932179677579"
      ],
      "text/markdown": [
       "16.0932179677579"
      ],
      "text/plain": [
       "[1] 16.09322"
      ]
     },
     "metadata": {},
     "output_type": "display_data"
    }
   ],
   "source": [
    "inverse.predict(model,35)$Prediction"
   ]
  },
  {
   "cell_type": "markdown",
   "metadata": {},
   "source": [
    "Ahora, las 70 HH se escapan del dominio de la regresión, por lo que no se debe aplicar el modelo, ya que la varianza fuera del dominio es muy alta $^{(1)}$."
   ]
  },
  {
   "cell_type": "markdown",
   "metadata": {},
   "source": [
    "_**(1)**_ Uno no sabe como se comporta el fenómeno que se está estudiando fuera de los datos que se poseen. Perfectamente los datos se podrían distribuir de otra manera fuera del dominio utilizado. Por ejemplo, se podría dar la siguiente situación."
   ]
  },
  {
   "cell_type": "code",
   "execution_count": 92,
   "metadata": {},
   "outputs": [
    {
     "data": {
      "image/png": "[encoded data removed]",
      "text/plain": [
       "plot without title"
      ]
     },
     "metadata": {
      "image/png": {
       "height": 420,
       "width": 900
      }
     },
     "output_type": "display_data"
    }
   ],
   "source": [
    "toy_data = read.csv(\"toy_data.csv\",sep=';')\n",
    "\n",
    "ggplot(toy_data,aes(x=x,y=y)) +\n",
    "    geom_point(color='#2980B9',size=8) +\n",
    "    theme_test(base_size=30)"
   ]
  },
  {
   "cell_type": "markdown",
   "metadata": {},
   "source": [
    "En este caso, fuera del dominio utilizado anteriormete, la relación entre x e y es cuadrática, por lo que utilizar el modelo anterior traería un error enorme."
   ]
  },
  {
   "cell_type": "markdown",
   "metadata": {},
   "source": [
    "#### Evalúe el grado de la relación entre las variables y la calidad del modelo."
   ]
  },
  {
   "cell_type": "markdown",
   "metadata": {},
   "source": [
    "Cuando se habla del grado de relación entre las variables se habla que tan bueno es el ajuste, lo cual se puede observar utilizando el _**Coeficiente de Correlación**_.\n",
    "\n",
    "$$ r_{xy} = \\frac{S_{xy}}{\\sqrt{S_{xx}\\cdot S_{yy}}}$$\n",
    "\n",
    "- Si $|r_{xy}| \\sim 1$ se dice que el grado es bueno, es decir, que la variable $y$ se puede calcular en base a $x$ (y viceversa).\n",
    "- Si $|r_{xy}| \\sim 0$ se desprende que las variables $x$ e $y$ no están relacionadas linealmente.\n",
    "\n",
    "Con este coeficiente también podemos ver si las variables son directamente o inversamente proposionales, esto viendo si es mayor o menos que cero respectivamente.\n",
    "\n",
    "Para calcular el coeficiente de correlación se puede utilizar la función `cor(x,y)`."
   ]
  },
  {
   "cell_type": "code",
   "execution_count": 93,
   "metadata": {},
   "outputs": [
    {
     "data": {
      "text/html": [
       "0.981231999238626"
      ],
      "text/latex": [
       "0.981231999238626"
      ],
      "text/markdown": [
       "0.981231999238626"
      ],
      "text/plain": [
       "[1] 0.981232"
      ]
     },
     "metadata": {},
     "output_type": "display_data"
    }
   ],
   "source": [
    "cor(data$TonChurros,data$HH)"
   ]
  },
  {
   "cell_type": "markdown",
   "metadata": {},
   "source": [
    "Como $r_{xy}$ es aproximadamente 0.98, el ajuste realizado es bueno, por lo que cada variable se puede calcular a partir de la otra. Además, como es mayor que 0, estas variables son directamente proporcionales."
   ]
  },
  {
   "cell_type": "markdown",
   "metadata": {},
   "source": [
    "Ahora, la calidad del modelo, se puede medir utilizando el **Coeficiente de Determinación**, el cual determina que tanto del valor de la variable dependiente ($Y$) se determina a partir de la variable independiente ($X$).\n",
    "\n",
    "$$ r^{2}_{xy} = \\frac{\\sum(\\hat{y_i}-\\bar{y})^2}{\\sum(y_i - \\bar{y})^2}$$\n",
    "\n",
    "- $r^{2}_{xy} \\sim 1$: Es mejor la predicción.\n",
    "- $r^{2}_{xy} \\sim 0$: Puede indicar la necesidad de aplicar alguna transformación a los datos.\n",
    "\n",
    "El coeficiente de determinación es uno de los campos que entrega la función `summary` cuando se utiliza sobre el modelo."
   ]
  },
  {
   "cell_type": "code",
   "execution_count": 104,
   "metadata": {},
   "outputs": [
    {
     "data": {
      "text/html": [
       "0.96281623632983"
      ],
      "text/latex": [
       "0.96281623632983"
      ],
      "text/markdown": [
       "0.96281623632983"
      ],
      "text/plain": [
       "[1] 0.9628162"
      ]
     },
     "metadata": {},
     "output_type": "display_data"
    }
   ],
   "source": [
    "model_summary$r.squared"
   ]
  },
  {
   "cell_type": "markdown",
   "metadata": {},
   "source": [
    "Como el coeficiente de determinación es de 0.96, se puede decir que el 96% de la variación en las HH (Y) se puede atribuir a su relación lineal con las toneladas de churros (X)."
   ]
  },
  {
   "cell_type": "markdown",
   "metadata": {},
   "source": [
    "#### Considerando la siguiente afirmación: \"La cantidad de HH crece al doble respecto de las toneladas de churros\"."
   ]
  },
  {
   "cell_type": "markdown",
   "metadata": {},
   "source": [
    "De la afirmación se desprende que nos están preguntando por el valor de $\\beta_1$. En particular hay que determinar si se puede decir con cierta certeza que este parámetro toma el valor de 3."
   ]
  },
  {
   "cell_type": "markdown",
   "metadata": {},
   "source": [
    "#### Verifique mediente un Intervalo de Confianza adecuado, considerando una certeza de 95%."
   ]
  },
  {
   "cell_type": "markdown",
   "metadata": {},
   "source": [
    "Hay que construir un Intervalo de Confianza para $\\beta_1$. Este se construye considerando la desviación estándar de este parámetro y la distribución `t-student`, la cual es la distribución teórica para $\\beta_1$.\n",
    "\n",
    "$$\\beta_{1}: \\left\\{\\beta_{1} \\pm t(1-\\frac{\\alpha}{2}, n-2) * \\sqrt{V(\\hat{\\beta_{1}})}\\right\\}$$\n",
    "\n",
    "Donde $t$ se obtiene desde la tabla t-student\n",
    "\n",
    "<img src=\"img/t-student.png\">\n",
    "\n",
    "Para buscar en esta tabla hay que buscar el primer parámetro en las columnas y el segundo parámetro en las filas.\n",
    "\n",
    "Afortunadamente estamos trabajando con R, por lo que podemos utilizar la función `confint(model)` para calcularlo directamente. Esta función por defecto considera una certeza de $0.95$. En caso de evaluar otro nivel de certeza, por ejemplo $0.97$, se debe utilizar el parámetro `level=0.97`."
   ]
  },
  {
   "cell_type": "code",
   "execution_count": 106,
   "metadata": {},
   "outputs": [
    {
     "data": {
      "text/html": [
       "<table>\n",
       "<caption>A matrix: 2 × 2 of type dbl</caption>\n",
       "<thead>\n",
       "\t<tr><th></th><th scope=col>2.5 %</th><th scope=col>97.5 %</th></tr>\n",
       "</thead>\n",
       "<tbody>\n",
       "\t<tr><th scope=row>(Intercept)</th><td>-2.986420</td><td>2.973124</td></tr>\n",
       "\t<tr><th scope=row>TonChurros</th><td> 1.986233</td><td>2.364252</td></tr>\n",
       "</tbody>\n",
       "</table>\n"
      ],
      "text/latex": [
       "A matrix: 2 × 2 of type dbl\n",
       "\\begin{tabular}{r|ll}\n",
       "  & 2.5 \\% & 97.5 \\%\\\\\n",
       "\\hline\n",
       "\t(Intercept) & -2.986420 & 2.973124\\\\\n",
       "\tTonChurros &  1.986233 & 2.364252\\\\\n",
       "\\end{tabular}\n"
      ],
      "text/markdown": [
       "\n",
       "A matrix: 2 × 2 of type dbl\n",
       "\n",
       "| <!--/--> | 2.5 % | 97.5 % |\n",
       "|---|---|---|\n",
       "| (Intercept) | -2.986420 | 2.973124 |\n",
       "| TonChurros |  1.986233 | 2.364252 |\n",
       "\n"
      ],
      "text/plain": [
       "            2.5 %     97.5 %  \n",
       "(Intercept) -2.986420 2.973124\n",
       "TonChurros   1.986233 2.364252"
      ]
     },
     "metadata": {},
     "output_type": "display_data"
    }
   ],
   "source": [
    "confint(model)"
   ]
  },
  {
   "cell_type": "markdown",
   "metadata": {},
   "source": [
    "Se obtiene que $\\beta_1$ (TonChurros) se encuentra en el intervalo $[1.99,2.36]$ con un 95% de certeza. Por lo tanto, se puede considerar que $\\beta_1$ es igual a 2, ya que se encuentra dentro del intervalo anterior, centrado en $\\beta_1$m con una certeza de 95%/nivel de significancia de $0.05$."
   ]
  },
  {
   "cell_type": "markdown",
   "metadata": {},
   "source": [
    "#### Verifique mediante Dócimas de Hipótesis."
   ]
  },
  {
   "cell_type": "markdown",
   "metadata": {},
   "source": [
    "Las Dócimas de Hipótesis se utilizan para realizar inferencias con el objetivo de probar una hipótesis. En este caso, nuestra hipótesis es que $\\beta_1$ toma el valor de 2, por lo que nuestras hipótesis serían las siguientes. El objetivo es encontrar que tan probable es que se cumpla la hipótesis $H_0$.\n",
    "\n",
    "$$ H_0: \\beta_1 = 2$$\n",
    "$$ H_1: \\beta_1 \\neq 2 $$\n",
    "\n",
    "En este tipo de técnicas se define un estadístico sobre la variable, el cual debe tener una distribución conocida, el cual se compara con una región crítica, la cual tiene valores improbables si se cumple la hipótesis $H_0$. Si el estadístico cae dentro de esta región crítica, al ser improbable esto si $H_0$ fuera verdadero, se rechaza esta hipótesis.\n",
    "\n",
    "En el caso de $\\beta_1$, el estadístico a utilizar es el siguiente.\n",
    "\n",
    "$$t_{\\beta_{1}} = \\frac{\\hat{\\beta_{1}}-c}{\\frac{S}{\\sqrt[]{S_{xx}}}}$$\n",
    "\n",
    "El cual se compara con la siguiente región crítica.\n",
    "\n",
    "$$R_{\\alpha} = \\big\\{|t_{\\beta_{1}| >  t_{(1-\\frac{\\alpha}{2}, n-2)}}\\big\\}$$ \n",
    "\n",
    "Si se cumple dicha condición, se rechaza $H_0$.\n",
    "\n",
    "En el [formulario](https://aula.usm.cl/pluginfile.php/6961025/mod_resource/content/0/Form%2BTablas.pdf) se encuentran las distintas Dócimas de Hipótesis que se utilizan en el curso.\n"
   ]
  },
  {
   "cell_type": "markdown",
   "metadata": {},
   "source": [
    "Teniendo esto en cuenta, se procede a calcular el estadístico. Todos los elementos para calcularlo se encuentran en el resumen del modelo lineal. En particular, el denominador del estadístico corresponde a la desviación estándar del parámetro."
   ]
  },
  {
   "cell_type": "code",
   "execution_count": 107,
   "metadata": {},
   "outputs": [
    {
     "data": {
      "text/html": [
       "1.92281563148988"
      ],
      "text/latex": [
       "1.92281563148988"
      ],
      "text/markdown": [
       "1.92281563148988"
      ],
      "text/plain": [
       "[1] 1.922816"
      ]
     },
     "metadata": {},
     "output_type": "display_data"
    }
   ],
   "source": [
    "model_coeffs <- model_summary$coefficients\n",
    "beta_1 <- model_coeffs['TonChurros','Estimate'] # Valor de Beta 1\n",
    "std_error <- model_coeffs['TonChurros','Std. Error'] # Desviación Std\n",
    "t_value <- (beta_1 - 2.0)/std_error\n",
    "abs(t_value)"
   ]
  },
  {
   "cell_type": "markdown",
   "metadata": {},
   "source": [
    "Con el estadístico calculado, procedemos a calcular la región crítica utilizando la tabla `t-student`. En este caso consideramos $\\alpha=0.05$, así que $\\frac{\\alpha}{2} = 0.025$, por lo que $t_{(1 - 0.025,22)} = 2.0739$.\n",
    "\n",
    "Como el valor absoluto del estadístico (1.92) no es mayor que $2.0739$, se acepta la hipótesis $H_0$ con un 95% de certeza."
   ]
  },
  {
   "cell_type": "markdown",
   "metadata": {},
   "source": [
    "#### Construya un intervalo de confianza para la respuesta de HH dado 15 toneladas de churros."
   ]
  },
  {
   "cell_type": "markdown",
   "metadata": {},
   "source": [
    "Cuando se pregunta por una cierta cantidad de la variable dependiente dado un valor para la variable independiente existen dos opciones:\n",
    "\n",
    "- IC para la respuesta media de Y: $\\mu_{Y}|X=x_0$\n",
    "- IC para la respuesta de Y: $Y|X=x_0$\n",
    "\n",
    "En este caso preguntan por la respuesta de HH, por lo que se trata del segundo caso, cuyo intervalo de confianza se construye de la siguiente manera.\n",
    "\n",
    " $\\Big\\{y_{0} \\pm t(1-\\frac{\\alpha}{2}, n-2) * \\hat{\\sigma}\\,\\sqrt[]{1 + \\frac{1}{n}+\\frac{(x_{0}-\\bar{x})^2}{Sxx}}\\Big\\}$\n",
    " \n",
    "Esto lo podemos calcular utilizando nuevamente la función `predict`, ahora agregando el parámetro `interval`. Esta función por defecto considera un nivel de significancia de $0.05$."
   ]
  },
  {
   "cell_type": "code",
   "execution_count": 108,
   "metadata": {},
   "outputs": [
    {
     "data": {
      "text/html": [
       "<table>\n",
       "<caption>A matrix: 1 × 3 of type dbl</caption>\n",
       "<thead>\n",
       "\t<tr><th></th><th scope=col>fit</th><th scope=col>lwr</th><th scope=col>upr</th></tr>\n",
       "</thead>\n",
       "<tbody>\n",
       "\t<tr><th scope=row>1</th><td>32.62199</td><td>26.8665</td><td>38.37747</td></tr>\n",
       "</tbody>\n",
       "</table>\n"
      ],
      "text/latex": [
       "A matrix: 1 × 3 of type dbl\n",
       "\\begin{tabular}{r|lll}\n",
       "  & fit & lwr & upr\\\\\n",
       "\\hline\n",
       "\t1 & 32.62199 & 26.8665 & 38.37747\\\\\n",
       "\\end{tabular}\n"
      ],
      "text/markdown": [
       "\n",
       "A matrix: 1 × 3 of type dbl\n",
       "\n",
       "| <!--/--> | fit | lwr | upr |\n",
       "|---|---|---|---|\n",
       "| 1 | 32.62199 | 26.8665 | 38.37747 |\n",
       "\n"
      ],
      "text/plain": [
       "  fit      lwr     upr     \n",
       "1 32.62199 26.8665 38.37747"
      ]
     },
     "metadata": {},
     "output_type": "display_data"
    }
   ],
   "source": [
    "predict(model,newdata=data.frame(TonChurros=15),interval='prediction')\n",
    "#En caso de querer un IC para la respuesta media, se utiliza interval = 'confidence'"
   ]
  },
  {
   "cell_type": "markdown",
   "metadata": {},
   "source": [
    "La respuesta de HH dado 15 toneladas de churros se encuentra el intervalo $[26.8665,38.37747]$, centrado en $32.62199$, con un 95% de certeza."
   ]
  },
  {
   "cell_type": "code",
   "execution_count": 109,
   "metadata": {},
   "outputs": [
    {
     "data": {
      "text/html": [
       "<table>\n",
       "<caption>A matrix: 1 × 3 of type dbl</caption>\n",
       "<thead>\n",
       "\t<tr><th></th><th scope=col>fit</th><th scope=col>lwr</th><th scope=col>upr</th></tr>\n",
       "</thead>\n",
       "<tbody>\n",
       "\t<tr><th scope=row>1</th><td>32.62199</td><td>31.46776</td><td>33.77621</td></tr>\n",
       "</tbody>\n",
       "</table>\n"
      ],
      "text/latex": [
       "A matrix: 1 × 3 of type dbl\n",
       "\\begin{tabular}{r|lll}\n",
       "  & fit & lwr & upr\\\\\n",
       "\\hline\n",
       "\t1 & 32.62199 & 31.46776 & 33.77621\\\\\n",
       "\\end{tabular}\n"
      ],
      "text/markdown": [
       "\n",
       "A matrix: 1 × 3 of type dbl\n",
       "\n",
       "| <!--/--> | fit | lwr | upr |\n",
       "|---|---|---|---|\n",
       "| 1 | 32.62199 | 31.46776 | 33.77621 |\n",
       "\n"
      ],
      "text/plain": [
       "  fit      lwr      upr     \n",
       "1 32.62199 31.46776 33.77621"
      ]
     },
     "metadata": {},
     "output_type": "display_data"
    }
   ],
   "source": [
    "predict(model,newdata=data.frame(TonChurros=15),interval='confidence')"
   ]
  },
  {
   "cell_type": "markdown",
   "metadata": {},
   "source": [
    "#### Verifique si el modelo es lineal."
   ]
  },
  {
   "cell_type": "markdown",
   "metadata": {},
   "source": [
    "Para verificar si existe relación lineal entre las variables se puede utilizar el test de _**ANOVA**_. En este test se compara el conjunto $Y$ con $\\hat{Y}$. El test considera las siguientes hipótesis:\n",
    "\n",
    "- $H_0: \\beta_1 = 0$, es decir, no existe la relación lineal con Y.\n",
    "- $H_1: \\beta_1 \\neq = 0$, es decir, existe relación lineal.\n",
    "\n",
    "Este test funciona de similar manera las Dócimas de Hipótesis, donde se rechaza $H_0$ si $R_{\\alpha} = f > F_{(1 - \\alpha, 1, n-2)}$.\n",
    "\n",
    "<img src='img/anova.png'>\n",
    "\n",
    "El estadístico se compara con la distribución F\n",
    "<img src='img/fisher.png'>\n",
    "\n",
    "Esta tabla considera un nivel de significancia de 0.05. Como el segundo parámetro es 1, debemos utilizar la primera columna.\n",
    "\n",
    "En R, se puede aplicar este test con la función `aov(model)`."
   ]
  },
  {
   "cell_type": "code",
   "execution_count": 110,
   "metadata": {},
   "outputs": [
    {
     "data": {
      "text/plain": [
       "            Df Sum Sq Mean Sq F value Pr(>F)    \n",
       "TonChurros   1   4211    4211   569.7 <2e-16 ***\n",
       "Residuals   22    163       7                   \n",
       "---\n",
       "Signif. codes:  0 '***' 0.001 '**' 0.01 '*' 0.05 '.' 0.1 ' ' 1"
      ]
     },
     "metadata": {},
     "output_type": "display_data"
    }
   ],
   "source": [
    "fm = aov(model)\n",
    "summary(fm)"
   ]
  },
  {
   "cell_type": "markdown",
   "metadata": {},
   "source": [
    "El cual entrega un estadístico de $569.7$. Luego, buscamos nuestro valor para  $F_{(1 - 0.05, 1, 24 -2)}$ en la tabla, el cual es $4.30$. Como $569.7 > 4.30$ se rechaza $H_0$, por lo que se concluye que _**con un nivel de significancia de 0.05 no hay suficiente evidencia para decir que el modelo NO es lineal**_."
   ]
  },
  {
   "cell_type": "markdown",
   "metadata": {},
   "source": [
    "#### Verifique si los errores son independientes."
   ]
  },
  {
   "cell_type": "markdown",
   "metadata": {},
   "source": [
    "Para verificar si los errores son independientes se utiliza el test de _**Durbin-Watson**_, el cual tiene dos hipótesis.\n",
    "- $H_0: \\rho = 0$, es decir, no hay correlación\n",
    "- $H_1: \\rho > 0$\n",
    "\n",
    "Cuyo estadístico se define como\n",
    "$ D = \\frac{\\sum_{i=2}(e_i - e_{i-1})^2}{\\sum_{i=1}e_i^2}$\n",
    "\n",
    "<img src='img/durbin-watson.png'>\n",
    "\n",
    "- Si $D > d_U$: Se acepta H_0, por lo que los errores no están correlacionados.\n",
    "- Si $D < d_l$: Se rechaza H_0, por lo que existe correlación entre los errores.\n",
    "- Si $d_L \\geq D \\geq D_U$: El test no concluye nada.\n",
    "\n",
    "Con el método `dwtest(model)` se puede aplicar este test al modelo construido."
   ]
  },
  {
   "cell_type": "code",
   "execution_count": 111,
   "metadata": {},
   "outputs": [
    {
     "data": {
      "text/plain": [
       "\n",
       "\tDurbin-Watson test\n",
       "\n",
       "data:  model\n",
       "DW = 2.4346, p-value = 0.8615\n",
       "alternative hypothesis: true autocorrelation is greater than 0\n"
      ]
     },
     "metadata": {},
     "output_type": "display_data"
    }
   ],
   "source": [
    "dwtest(model)"
   ]
  },
  {
   "cell_type": "markdown",
   "metadata": {},
   "source": [
    "Utilizando los valores de la tabla, tenemos que $d_L = 1.13$ y $d_U = 1.34$. Como $D = 2.4345 > d_U = 1.34$ se acepta $H_0$. Con un nivel de significancia de 0.05 se acepta $H_0$, por lo que con un 95% de certeza los errores no están correlacionados."
   ]
  },
  {
   "cell_type": "markdown",
   "metadata": {},
   "source": [
    "#### Verifique si los errores siguen una distribución normal."
   ]
  },
  {
   "cell_type": "markdown",
   "metadata": {},
   "source": [
    "Para verificar si los errores siguen una distribución normal se puede utilizar el test de _**Kolmogorov-Smirnov**_. Este test compara dos distribuciones, en este caso se compararán los errores con una distribución normal.\n",
    "\n",
    "Sus hipótesis son:\n",
    "- $H_0: F_0(x) = F_n(x)$ de una $N(\\mu,\\sigma)$\n",
    "- $H_1: F_0(x) \\neq F_n(x)$ de una $N(\\mu,\\sigma)$\n",
    "\n",
    "Pasos:\n",
    "- Se calculan y ordenan los residuos.\n",
    "- Se arma la frecuencia acumulada $F_0$.\n",
    "- Se estandarizan los residuos para obtener un z.\n",
    "- De la tabla de distribución normal se obtiene la frecuencia acumulada  $F_n$ para cada Z.\n",
    "- Se resta cada $F_n - F_0$.\n",
    "\n",
    "El estadístico corresponde al valor absoluto de la diferencia más grande entre $F_n$ y $F_0$.\n",
    "\n",
    "Donde $H_0$ se rechaza si $D > D^{\\alpha}_n$.\n",
    "\n",
    "<img src='img/kolmo.png'>\n",
    "\n",
    "Parece mucho trabajo, pero afortunadamente la función `ksnormTest(residuals)` realiza todos estos pasos por nosotros."
   ]
  },
  {
   "cell_type": "code",
   "execution_count": 112,
   "metadata": {},
   "outputs": [
    {
     "data": {
      "text/plain": [
       "\n",
       "Title:\n",
       " One-sample Kolmogorov-Smirnov test\n",
       "\n",
       "Test Results:\n",
       "  STATISTIC:\n",
       "    D: 0.237\n",
       "  P VALUE:\n",
       "    Alternative Two-Sided: 0.1139 \n",
       "    Alternative      Less: 0.1202 \n",
       "    Alternative   Greater: 0.05695 \n",
       "\n",
       "Description:\n",
       " Thu Jul 09 15:18:13 2020 by user: felip\n"
      ]
     },
     "metadata": {},
     "output_type": "display_data"
    }
   ],
   "source": [
    "ksnormTest(fm$residuals) # los residuos se obtienen desde el test de ANOVA"
   ]
  },
  {
   "cell_type": "markdown",
   "metadata": {},
   "source": [
    "Buscando en la tabla tenemos que $D^{0.05}_{24}$ es $0.36931$. Como nuestro estadístico $D = 0.237$ y D no es mayor que $D^{0.05}_{24}$, por lo que se acepta $H_0$. Con un nivel de significancia de 0.05, se concluye que los residuos siguen una distribución normal. "
   ]
  }
 ],
 "metadata": {
  "kernelspec": {
   "display_name": "R",
   "language": "R",
   "name": "ir"
  },
  "language_info": {
   "codemirror_mode": "r",
   "file_extension": ".r",
   "mimetype": "text/x-r-source",
   "name": "R",
   "pygments_lexer": "r",
   "version": "4.0.1"
  }
 },
 "nbformat": 4,
 "nbformat_minor": 4
}
